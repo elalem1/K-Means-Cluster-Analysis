{
 "cells": [
  {
   "cell_type": "code",
   "execution_count": 140,
   "metadata": {},
   "outputs": [],
   "source": [
    "# import the needed Python libraries\n",
    "\n",
    "from pandas import Series, DataFrame\n",
    "import pandas as pd\n",
    "import numpy as np\n",
    "import matplotlib.pylab as plt\n",
    "from sklearn.cross_validation import train_test_split\n",
    "from sklearn import preprocessing\n",
    "from sklearn.cluster import KMeans"
   ]
  },
  {
   "cell_type": "code",
   "execution_count": 141,
   "metadata": {},
   "outputs": [],
   "source": [
    "# Getting and cleaning data\n",
    "\n",
    "AH_data = pd.read_csv(r'D://tree_addhealth.csv')\n",
    "\n",
    "data_clean = AH_data.dropna()"
   ]
  },
  {
   "cell_type": "code",
   "execution_count": 142,
   "metadata": {},
   "outputs": [
    {
     "data": {
      "text/html": [
       "<div>\n",
       "<style scoped>\n",
       "    .dataframe tbody tr th:only-of-type {\n",
       "        vertical-align: middle;\n",
       "    }\n",
       "\n",
       "    .dataframe tbody tr th {\n",
       "        vertical-align: top;\n",
       "    }\n",
       "\n",
       "    .dataframe thead th {\n",
       "        text-align: right;\n",
       "    }\n",
       "</style>\n",
       "<table border=\"1\" class=\"dataframe\">\n",
       "  <thead>\n",
       "    <tr style=\"text-align: right;\">\n",
       "      <th></th>\n",
       "      <th>ALCEVR1</th>\n",
       "      <th>ALCPROBS1</th>\n",
       "      <th>ESTEEM1</th>\n",
       "      <th>EXPEL1</th>\n",
       "      <th>PARPRES</th>\n",
       "      <th>SCHCONN1</th>\n",
       "      <th>VIOL1</th>\n",
       "      <th>PARACTV</th>\n",
       "    </tr>\n",
       "  </thead>\n",
       "  <tbody>\n",
       "    <tr>\n",
       "      <th>count</th>\n",
       "      <td>4575.000000</td>\n",
       "      <td>4575.000000</td>\n",
       "      <td>4575.000000</td>\n",
       "      <td>4575.000000</td>\n",
       "      <td>4575.000000</td>\n",
       "      <td>4575.000000</td>\n",
       "      <td>4575.000000</td>\n",
       "      <td>4575.000000</td>\n",
       "    </tr>\n",
       "    <tr>\n",
       "      <th>mean</th>\n",
       "      <td>0.527432</td>\n",
       "      <td>0.369180</td>\n",
       "      <td>40.952131</td>\n",
       "      <td>0.040219</td>\n",
       "      <td>13.398033</td>\n",
       "      <td>28.360656</td>\n",
       "      <td>1.618579</td>\n",
       "      <td>6.290710</td>\n",
       "    </tr>\n",
       "    <tr>\n",
       "      <th>std</th>\n",
       "      <td>0.499302</td>\n",
       "      <td>0.894947</td>\n",
       "      <td>5.381439</td>\n",
       "      <td>0.196493</td>\n",
       "      <td>2.085837</td>\n",
       "      <td>5.156385</td>\n",
       "      <td>2.593230</td>\n",
       "      <td>3.360219</td>\n",
       "    </tr>\n",
       "    <tr>\n",
       "      <th>min</th>\n",
       "      <td>0.000000</td>\n",
       "      <td>0.000000</td>\n",
       "      <td>18.000000</td>\n",
       "      <td>0.000000</td>\n",
       "      <td>3.000000</td>\n",
       "      <td>6.000000</td>\n",
       "      <td>0.000000</td>\n",
       "      <td>0.000000</td>\n",
       "    </tr>\n",
       "    <tr>\n",
       "      <th>25%</th>\n",
       "      <td>0.000000</td>\n",
       "      <td>0.000000</td>\n",
       "      <td>38.000000</td>\n",
       "      <td>0.000000</td>\n",
       "      <td>12.000000</td>\n",
       "      <td>25.000000</td>\n",
       "      <td>0.000000</td>\n",
       "      <td>4.000000</td>\n",
       "    </tr>\n",
       "    <tr>\n",
       "      <th>50%</th>\n",
       "      <td>1.000000</td>\n",
       "      <td>0.000000</td>\n",
       "      <td>40.000000</td>\n",
       "      <td>0.000000</td>\n",
       "      <td>14.000000</td>\n",
       "      <td>29.000000</td>\n",
       "      <td>0.000000</td>\n",
       "      <td>6.000000</td>\n",
       "    </tr>\n",
       "    <tr>\n",
       "      <th>75%</th>\n",
       "      <td>1.000000</td>\n",
       "      <td>0.000000</td>\n",
       "      <td>45.000000</td>\n",
       "      <td>0.000000</td>\n",
       "      <td>15.000000</td>\n",
       "      <td>32.000000</td>\n",
       "      <td>2.000000</td>\n",
       "      <td>9.000000</td>\n",
       "    </tr>\n",
       "    <tr>\n",
       "      <th>max</th>\n",
       "      <td>1.000000</td>\n",
       "      <td>6.000000</td>\n",
       "      <td>50.000000</td>\n",
       "      <td>1.000000</td>\n",
       "      <td>15.000000</td>\n",
       "      <td>38.000000</td>\n",
       "      <td>19.000000</td>\n",
       "      <td>18.000000</td>\n",
       "    </tr>\n",
       "  </tbody>\n",
       "</table>\n",
       "</div>"
      ],
      "text/plain": [
       "           ALCEVR1    ALCPROBS1      ESTEEM1       EXPEL1      PARPRES  \\\n",
       "count  4575.000000  4575.000000  4575.000000  4575.000000  4575.000000   \n",
       "mean      0.527432     0.369180    40.952131     0.040219    13.398033   \n",
       "std       0.499302     0.894947     5.381439     0.196493     2.085837   \n",
       "min       0.000000     0.000000    18.000000     0.000000     3.000000   \n",
       "25%       0.000000     0.000000    38.000000     0.000000    12.000000   \n",
       "50%       1.000000     0.000000    40.000000     0.000000    14.000000   \n",
       "75%       1.000000     0.000000    45.000000     0.000000    15.000000   \n",
       "max       1.000000     6.000000    50.000000     1.000000    15.000000   \n",
       "\n",
       "          SCHCONN1        VIOL1      PARACTV  \n",
       "count  4575.000000  4575.000000  4575.000000  \n",
       "mean     28.360656     1.618579     6.290710  \n",
       "std       5.156385     2.593230     3.360219  \n",
       "min       6.000000     0.000000     0.000000  \n",
       "25%      25.000000     0.000000     4.000000  \n",
       "50%      29.000000     0.000000     6.000000  \n",
       "75%      32.000000     2.000000     9.000000  \n",
       "max      38.000000    19.000000    18.000000  "
      ]
     },
     "execution_count": 142,
     "metadata": {},
     "output_type": "execute_result"
    }
   ],
   "source": [
    "#Creating a dataset cluster containing our clustering variables  \n",
    "\n",
    "cluster=data_clean[['ALCEVR1','ALCPROBS1','ESTEEM1','EXPEL1','PARPRES','SCHCONN1','VIOL1','PARACTV']]\n",
    "cluster.describe()"
   ]
  },
  {
   "cell_type": "code",
   "execution_count": 143,
   "metadata": {},
   "outputs": [],
   "source": [
    "\n",
    "# standardize clustering variables to have mean=0 and sd=1\n",
    "clustervar=cluster.copy()\n",
    "\n",
    "\n",
    "\n",
    "\n",
    "\n",
    "\n",
    "clustervar['ALCEVR1']=preprocessing.scale(clustervar['ALCEVR1'].astype('float64'))\n",
    "clustervar['ALCPROBS1']=preprocessing.scale(clustervar['ALCPROBS1'].astype('float64'))\n",
    "clustervar['VIOL1']=preprocessing.scale(clustervar['VIOL1'].astype('float64'))\n",
    "clustervar['EXPEL1']=preprocessing.scale(clustervar['EXPEL1'].astype('float64'))\n",
    "clustervar['ESTEEM1']=preprocessing.scale(clustervar['ESTEEM1'].astype('float64'))\n",
    "clustervar['SCHCONN1']=preprocessing.scale(clustervar['SCHCONN1'].astype('float64'))\n",
    "clustervar['PARPRES']=preprocessing.scale(clustervar['PARPRES'].astype('float64'))\n",
    "clustervar['PARACTV']=preprocessing.scale(clustervar['PARACTV'].astype('float64'))"
   ]
  },
  {
   "cell_type": "code",
   "execution_count": 144,
   "metadata": {},
   "outputs": [],
   "source": [
    "#Randomly split the data into training (70% of the observations) and test dataset (30% of the observations), random state ensure that the data will be split the same way when the code is run again\n",
    "clus_train, clus_test = train_test_split(clustervar, test_size=.3, random_state=123)"
   ]
  },
  {
   "cell_type": "code",
   "execution_count": 145,
   "metadata": {},
   "outputs": [],
   "source": [
    "# k-means cluster analysis for 1-7 clusters                                                           \n",
    "from scipy.spatial.distance import cdist\n",
    "\n",
    "# Calculate the average of distance between observations and cluster centroids\n",
    "clusters=range(1,8)  #test a number of clusters between 1 and 8\n",
    "meandist=[]\n",
    "\n",
    "for k in clusters:\n",
    "   model=KMeans(n_clusters=k)\n",
    "   model.fit(clus_train)\n",
    "   clusassign=model.predict(clus_train)\n",
    "   meandist.append(sum(np.min(cdist(clus_train, model.cluster_centers_, 'euclidean'), axis=1)) \n",
    "   / clus_train.shape[0])"
   ]
  },
  {
   "cell_type": "code",
   "execution_count": 146,
   "metadata": {},
   "outputs": [
    {
     "data": {
      "text/plain": [
       "Text(0.5,1,'Selecting k with the Elbow Method')"
      ]
     },
     "execution_count": 146,
     "metadata": {},
     "output_type": "execute_result"
    },
    {
     "data": {
      "image/png": "[encoded data removed]",
      "text/plain": [
       "<Figure size 432x288 with 1 Axes>"
      ]
     },
     "metadata": {
      "needs_background": "light"
     },
     "output_type": "display_data"
    }
   ],
   "source": [
    "#plot this average distance measure to figure out how many clusters would be optimal \n",
    "\n",
    "plt.plot(clusters, meandist)\n",
    "plt.xlabel('Number of clusters')\n",
    "plt.ylabel('Average distance')\n",
    "plt.title('Selecting k with the Elbow Method')"
   ]
  },
  {
   "cell_type": "code",
   "execution_count": 147,
   "metadata": {},
   "outputs": [],
   "source": [
    "# Interpret 3 cluster solution\n",
    "model3=KMeans(n_clusters=3)\n",
    "model3.fit(clus_train)\n",
    "clusassign=model3.predict(clus_train)"
   ]
  },
  {
   "cell_type": "code",
   "execution_count": 148,
   "metadata": {},
   "outputs": [
    {
     "data": {
      "image/png": "[encoded data removed]",
      "text/plain": [
       "<Figure size 432x288 with 1 Axes>"
      ]
     },
     "metadata": {
      "needs_background": "light"
     },
     "output_type": "display_data"
    }
   ],
   "source": [
    "# plot clusters\n",
    "\n",
    "#We use the canonical discriminant analysis which is a data reduction technique that creates a small number of variables that are Linear combinations of clustering variables\n",
    "\n",
    "from sklearn.decomposition import PCA\n",
    "pca_2 = PCA(2)\n",
    "plot_columns = pca_2.fit_transform(clus_train)\n",
    "plt.scatter(x=plot_columns[:,0], y=plot_columns[:,1], c=model3.labels_,)\n",
    "plt.xlabel('Canonical variable 1')\n",
    "plt.ylabel('Canonical variable 2')\n",
    "plt.title('Scatterplot of Canonical Variables for 3 Clusters')\n",
    "plt.show()"
   ]
  },
  {
   "cell_type": "code",
   "execution_count": 149,
   "metadata": {},
   "outputs": [
    {
     "name": "stdout",
     "output_type": "stream",
     "text": [
      "Clustering variable means by cluster\n",
      "               index   ALCEVR1  ALCPROBS1   ESTEEM1    EXPEL1   PARPRES  \\\n",
      "cluster                                                                   \n",
      "0        3391.104839  0.381195   0.713957 -0.173951  4.885093 -0.194714   \n",
      "1        3311.135625  0.942807   0.298452 -0.089950 -0.204704 -0.089558   \n",
      "2        3249.769283 -1.056455  -0.412562  0.153246 -0.204704  0.122207   \n",
      "\n",
      "         SCHCONN1     VIOL1   PARACTV  \n",
      "cluster                                \n",
      "0       -0.690922  1.226330 -0.314549  \n",
      "1       -0.180263  0.090696 -0.020116  \n",
      "2        0.256807 -0.219775  0.062493  \n"
     ]
    }
   ],
   "source": [
    "# cluster training data to merge with the cluster assignment variable\n",
    "clus_train.reset_index(level=0, inplace=True)\n",
    "# create a list that has the new index variable\n",
    "cluslist=list(clus_train['index'])\n",
    "# create a list of cluster assignments\n",
    "labels=list(model3.labels_)\n",
    "# combine index variable list with cluster assignment list into a dictionary\n",
    "newlist=dict(zip(cluslist, labels))\n",
    "newlist\n",
    "# convert newlist dictionary to a dataframe\n",
    "newclus=DataFrame.from_dict(newlist, orient='index')\n",
    "newclus\n",
    "# rename the cluster assignment column\n",
    "newclus.columns = ['cluster']\n",
    "\n",
    "# now do the same for the cluster assignment variable\n",
    "# create a unique identifier variable from the index for the \n",
    "# cluster assignment dataframe \n",
    "# to merge with cluster training data\n",
    "newclus.reset_index(level=0, inplace=True)\n",
    "# merge the cluster assignment dataframe with the cluster training variable dataframe\n",
    "# by the index variable\n",
    "merged_train=pd.merge(clus_train, newclus, on='index')\n",
    "merged_train.head(n=100)\n",
    "# cluster frequencies\n",
    "merged_train.cluster.value_counts()\n",
    "\n",
    "# calculate clustering variable means by cluster\n",
    "\n",
    "clustergrp = merged_train.groupby('cluster').mean()\n",
    "print ('Clustering variable means by cluster')\n",
    "print(clustergrp)"
   ]
  },
  {
   "cell_type": "code",
   "execution_count": 150,
   "metadata": {},
   "outputs": [
    {
     "name": "stdout",
     "output_type": "stream",
     "text": [
      "                            OLS Regression Results                            \n",
      "==============================================================================\n",
      "Dep. Variable:               DEVIANT1   R-squared:                       0.151\n",
      "Model:                            OLS   Adj. R-squared:                  0.151\n",
      "Method:                 Least Squares   F-statistic:                     284.8\n",
      "Date:                Sat, 29 Dec 2018   Prob (F-statistic):          1.47e-114\n",
      "Time:                        18:37:04   Log-Likelihood:                -8259.3\n",
      "No. Observations:                3202   AIC:                         1.652e+04\n",
      "Df Residuals:                    3199   BIC:                         1.654e+04\n",
      "Df Model:                           2                                         \n",
      "Covariance Type:            nonrobust                                         \n",
      "===================================================================================\n",
      "                      coef    std err          t      P>|t|      [0.025      0.975]\n",
      "-----------------------------------------------------------------------------------\n",
      "Intercept           6.2742      0.287     21.881      0.000       5.712       6.836\n",
      "C(cluster)[T.1]    -2.7023      0.298     -9.079      0.000      -3.286      -2.119\n",
      "C(cluster)[T.2]    -5.0063      0.299    -16.770      0.000      -5.592      -4.421\n",
      "==============================================================================\n",
      "Omnibus:                     1578.351   Durbin-Watson:                   1.979\n",
      "Prob(Omnibus):                  0.000   Jarque-Bera (JB):            11384.409\n",
      "Skew:                           2.239   Prob(JB):                         0.00\n",
      "Kurtosis:                      11.079   Cond. No.                         10.8\n",
      "==============================================================================\n",
      "\n",
      "Warnings:\n",
      "[1] Standard Errors assume that the covariance matrix of the errors is correctly specified.\n",
      "means for DEVIANT1 by cluster\n",
      "         DEVIANT1\n",
      "cluster          \n",
      "0        6.274194\n",
      "1        3.571875\n",
      "2        1.267930\n",
      "standard deviations for DEVIANT1 by cluster\n",
      "         DEVIANT1\n",
      "cluster          \n",
      "0        5.857854\n",
      "1        3.707212\n",
      "2        2.084521\n",
      "Multiple Comparison of Means - Tukey HSD,FWER=0.05\n",
      "=============================================\n",
      "group1 group2 meandiff  lower   upper  reject\n",
      "---------------------------------------------\n",
      "  0      1    -2.7023  -3.4002 -2.0044  True \n",
      "  0      2    -5.0063  -5.7062 -4.3063  True \n",
      "  1      2    -2.3039  -2.5741 -2.0338  True \n",
      "---------------------------------------------\n"
     ]
    }
   ],
   "source": [
    "# validate clusters in training data by examining cluster differences in DEVIANT using ANOVA\n",
    "#  merge GPA with clustering variables and cluster assignment data\n",
    "\n",
    "deviant_data=data_clean['DEVIANT1']\n",
    "# split DEVIANT data into train and test sets\n",
    "\n",
    "deviant_train, deviant_test = train_test_split(deviant_data, test_size=.3, random_state=123)\n",
    "deviant_train1=pd.DataFrame(deviant_train)\n",
    "deviant_train1.reset_index(level=0, inplace=True)\n",
    "merged_train_all=pd.merge(deviant_train1, merged_train, on='index')\n",
    "sub1 = merged_train_all[['DEVIANT1', 'cluster']].dropna()\n",
    "\n",
    "import statsmodels.formula.api as smf\n",
    "import statsmodels.stats.multicomp as multi\n",
    "\n",
    "deviantmod = smf.ols(formula='DEVIANT1 ~ C(cluster)', data=sub1).fit()\n",
    "print (deviantmod.summary())\n",
    "\n",
    "print ('means for DEVIANT1 by cluster')\n",
    "m1= sub1.groupby('cluster').mean()\n",
    "print (m1)\n",
    "\n",
    "print ('standard deviations for DEVIANT1 by cluster')\n",
    "m2= sub1.groupby('cluster').std()\n",
    "print (m2)\n",
    "\n",
    "mc1 = multi.MultiComparison(sub1['DEVIANT1'], sub1['cluster'])\n",
    "res1 = mc1.tukeyhsd()\n",
    "print(res1.summary())\n",
    "\n",
    "\n"
   ]
  },
  {
   "cell_type": "code",
   "execution_count": 152,
   "metadata": {},
   "outputs": [
    {
     "data": {
      "text/plain": [
       "1    1600\n",
       "2    1478\n",
       "0     124\n",
       "Name: cluster, dtype: int64"
      ]
     },
     "execution_count": 152,
     "metadata": {},
     "output_type": "execute_result"
    }
   ],
   "source": [
    "merged_train.cluster.value_counts()"
   ]
  },
  {
   "cell_type": "markdown",
   "metadata": {},
   "source": [
    "###  Cluster 0 includes the least adolescents having the least level of deviancy . They had greater self-esteem , school and family connectedness, higher GPA and parents activity and presence.  So cluster 0 include the least troubled adolescents\n",
    "\n",
    "### Cluster 1 includes the adolescents who had highly used alcohol and marijuana, experienced more alcohol problems, and violent behavior, they appear also to have higher levels of depression, lower self-esteem and school achievement  as well as the lowest levels of school and family connectedness , parents presence and activity.\n",
    "\n",
    "### Cluster 2 include adolescents who had more used Alcohol but tend to fall in between the two other clusters in the use of Marijuana,  having alcohol problems, engaging in violence, depression, self-esteem, school and family connectedness, parents activity and GPA, with the exception of having higher parental involvement in activities. \n",
    "\n",
    "\n",
    "### The first plot shows the decrease of the average distance of the observations from the cluster centroids as the number of clusters increases. The elbow curve suggests that the 2, 3 and 6-cluster solutions might be interpreted. The results below are for an interpretation of the 3-cluster solution.\n",
    "\n",
    "### A scatterplot (the second plot) of the first two canonical variables by cluster indicated that the observations in clusters in dark green  and purple were densely packed with relatively low within cluster variance, and did not overlap very much with the yellow cluster. Cluster Yellow was generally distinct, and the observations had less spread suggesting low within cluster variance.  The results of this plot suggest that the best cluster solution may have been 2 , so it will be especially important to also evaluate the 2 cluster solution.\n",
    "\n",
    "\n",
    "\n"
   ]
  },
  {
   "cell_type": "code",
   "execution_count": null,
   "metadata": {},
   "outputs": [],
   "source": []
  }
 ],
 "metadata": {
  "kernelspec": {
   "display_name": "Python 3",
   "language": "python",
   "name": "python3"
  },
  "language_info": {
   "codemirror_mode": {
    "name": "ipython",
    "version": 3
   },
   "file_extension": ".py",
   "mimetype": "text/x-python",
   "name": "python",
   "nbconvert_exporter": "python",
   "pygments_lexer": "ipython3",
   "version": "3.7.0"
  }
 },
 "nbformat": 4,
 "nbformat_minor": 2
}
